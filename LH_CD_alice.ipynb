{
  "nbformat": 4,
  "nbformat_minor": 0,
  "metadata": {
    "colab": {
      "provenance": [],
      "collapsed_sections": [
        "A27ekPeOt5Lc",
        "rSb3ed_f6NxG"
      ]
    },
    "kernelspec": {
      "name": "python3",
      "display_name": "Python 3"
    },
    "language_info": {
      "name": "python"
    }
  },
  "cells": [
    {
      "cell_type": "code",
      "execution_count": null,
      "metadata": {
        "id": "ONTOf-NjlJdl"
      },
      "outputs": [],
      "source": [
        "import numpy as np\n",
        "import pandas as pd\n",
        "import seaborn as sns\n",
        "import matplotlib.pyplot as plt"
      ]
    },
    {
      "cell_type": "code",
      "source": [
        "imdb_data = pd.read_csv(\"data/desafio_indicium_imdb.csv\")"
      ],
      "metadata": {
        "id": "ypudAQNplXpC"
      },
      "execution_count": null,
      "outputs": []
    },
    {
      "cell_type": "markdown",
      "source": [
        "# Questão 1"
      ],
      "metadata": {
        "id": "t2aAE2k5qrJh"
      }
    },
    {
      "cell_type": "markdown",
      "source": [
        "Inicialmente, foi realizado uma limpeza e preparação da base de dados para garantir sua consistência e facilitar a modelagem futura.\n",
        "\n",
        "\n",
        "Algumas variáveis, como Genre, foram segmentadas para extrair o gênero principal.\n",
        "A variável Gross foi convertida em milhos, Runtime para número inteiro.\n",
        "\n",
        "\n"
      ],
      "metadata": {
        "id": "nWlqjlcoudAR"
      }
    },
    {
      "cell_type": "code",
      "source": [
        "imdb_data.head()"
      ],
      "metadata": {
        "collapsed": true,
        "id": "oA9hw374pxge"
      },
      "execution_count": null,
      "outputs": []
    },
    {
      "cell_type": "code",
      "source": [
        "imdb_data.info()"
      ],
      "metadata": {
        "collapsed": true,
        "id": "kkab-3NtmOCf"
      },
      "execution_count": null,
      "outputs": []
    },
    {
      "cell_type": "code",
      "source": [
        "imdb_data.describe()"
      ],
      "metadata": {
        "collapsed": true,
        "id": "0eVAFyZ_mVkg"
      },
      "execution_count": null,
      "outputs": []
    },
    {
      "cell_type": "code",
      "source": [
        "pd.DataFrame({\n",
        "    'Nulos (total)': imdb_data.isnull().sum(),\n",
        "    'Nulos (%)': (imdb_data.isnull().sum()/len(imdb_data)) * 100\n",
        "})"
      ],
      "metadata": {
        "collapsed": true,
        "id": "b5g-oWeGs8iP"
      },
      "execution_count": null,
      "outputs": []
    },
    {
      "cell_type": "code",
      "source": [
        "imdb_data.nunique()"
      ],
      "metadata": {
        "collapsed": true,
        "id": "g6RAIiw2tyNn"
      },
      "execution_count": null,
      "outputs": []
    },
    {
      "cell_type": "code",
      "source": [
        "imdb_data.duplicated().sum()"
      ],
      "metadata": {
        "id": "0eGCZEXntp2y",
        "collapsed": true
      },
      "execution_count": null,
      "outputs": []
    },
    {
      "cell_type": "code",
      "source": [
        "imdb_data.dtypes"
      ],
      "metadata": {
        "collapsed": true,
        "id": "Qe2DHC6ystnk"
      },
      "execution_count": null,
      "outputs": []
    },
    {
      "cell_type": "markdown",
      "source": [
        "Verificou-se as tipos de dados de cada coluna, identificou-se colunas numéricas armazenadas como texto."
      ],
      "metadata": {
        "id": "9CbLPxm6jKuo"
      }
    },
    {
      "cell_type": "code",
      "source": [
        "imdb_data['Released_Year'] = pd.to_numeric(imdb_data['Released_Year'], errors='coerce')\n",
        "imdb_data['Runtime'] = imdb_data['Runtime'].astype(str).str.extract(r\"(\\d+)\").astype(float)\n",
        "imdb_data['Gross'] = imdb_data['Gross'].str.replace(',', '').astype(float)\n",
        "imdb_data['Gross_million'] = imdb_data['Gross']/1_000_000"
      ],
      "metadata": {
        "id": "oCmPp9Bbhmyi",
        "collapsed": true
      },
      "execution_count": null,
      "outputs": []
    },
    {
      "cell_type": "code",
      "source": [
        "imdb_data['Main_Genre']= imdb_data['Genre'].str.split(\",\").str[0]"
      ],
      "metadata": {
        "id": "WoTaTyX1kDkO"
      },
      "execution_count": null,
      "outputs": []
    },
    {
      "cell_type": "markdown",
      "source": [
        "Foram removidas duplicatas e registros irrelevantes. Após isso, seguiremos a etapa de análise exploratória com histograma e correlação."
      ],
      "metadata": {
        "id": "f5AFLm5xmdiJ"
      }
    },
    {
      "cell_type": "code",
      "source": [
        "sns.histplot(imdb_data['IMDB_Rating'])\n",
        "plt.title(\"Distribuição da Nota IMDB\")\n",
        "plt.xlabel(\"Nota IMDB\")\n",
        "plt.ylabel(\"Frequência\")\n",
        "plt.show()"
      ],
      "metadata": {
        "id": "y0BEKIQOkmDr",
        "collapsed": true
      },
      "execution_count": null,
      "outputs": []
    },
    {
      "cell_type": "code",
      "source": [
        "sns.histplot(imdb_data['Meta_score'].dropna())\n",
        "plt.title(\"Distribuição do Meta Score\")\n",
        "plt.xlabel(\"Meta Score\")\n",
        "plt.ylabel(\"Frequência\")\n",
        "plt.show()"
      ],
      "metadata": {
        "id": "UHz4zX9Slur7",
        "collapsed": true
      },
      "execution_count": null,
      "outputs": []
    },
    {
      "cell_type": "code",
      "source": [
        "sns.boxplot(data=imdb_data, x=\"Main_Genre\", y=\"Gross_million\")\n",
        "plt.title(\"Distribuição do Faturamento por Gênero Principal\")\n",
        "plt.xlabel(\"Gênero\")\n",
        "plt.ylabel(\"Gross(USD)\")\n",
        "plt.xticks(rotation=30)\n",
        "plt.show()"
      ],
      "metadata": {
        "id": "4q1DC6nHmJfL",
        "collapsed": true
      },
      "execution_count": null,
      "outputs": []
    },
    {
      "cell_type": "code",
      "source": [
        "sns.boxplot(data=imdb_data, x=\"Certificate\", y=\"IMDB_Rating\")\n",
        "plt.title(\"Nota IMDB por Classificação Etária\")\n",
        "plt.xlabel(\"Classificação\")\n",
        "plt.ylabel(\"Nota IMDB\")\n",
        "plt.xticks(rotation=30)\n",
        "plt.show()"
      ],
      "metadata": {
        "id": "XYsn5Uy-p5Gs"
      },
      "execution_count": null,
      "outputs": []
    },
    {
      "cell_type": "code",
      "source": [
        "colunas_correlacao = [\"IMDB_Rating\", \"Meta_score\", \"No_of_Votes\", \"Gross_million\", \"Runtime\"]\n",
        "\n",
        "correlacao = imdb_data[colunas_correlacao].corr()\n",
        "\n",
        "sns.heatmap(correlacao, annot=True, cmap=\"coolwarm\", fmt=\".2f\")\n",
        "plt.title(\"Correlação entre variáveis numéricas\")\n",
        "plt.show()"
      ],
      "metadata": {
        "collapsed": true,
        "id": "_y-u-0MAqToD"
      },
      "execution_count": null,
      "outputs": []
    },
    {
      "cell_type": "markdown",
      "source": [
        "# Questão 2"
      ],
      "metadata": {
        "id": "lCbdD7zLq7zF"
      }
    },
    {
      "cell_type": "markdown",
      "source": [
        "#### Questão 2a"
      ],
      "metadata": {
        "id": "A27ekPeOt5Lc"
      }
    },
    {
      "cell_type": "markdown",
      "source": [
        "Para recomendar um filme a uma pessoa desconhecida, consideraremos uma obra com qualidade reconhecida e apelo universal.\n",
        "Utilizaremos a fórmula ponderada do [IMDB](https://help.imdb.com/article/imdb/track-movies-tv/weighted-average-ratings/GWT2DSBYVT2F25SK), conforme mostrado a seguir. Combina a nota do filme (`IMDB_Rating`) com o número de votos recebidos (`No_of_Vote`), reduzindo o viés de filmes com poucas avaliações."
      ],
      "metadata": {
        "id": "wYdCyHnDt-dn"
      }
    },
    {
      "cell_type": "markdown",
      "source": [
        "$WR = \\frac{v}{v+m} \\times  R + \\frac{m}{v+m} \\times C$\n",
        "\n",
        "$R =$ `IMDB_Rating`\n",
        "\n",
        "$v =$ `No_of_Votes`\n",
        "\n",
        "$C =$ média global das notas\n",
        "\n",
        "$m =$ valor mínimo de votos"
      ],
      "metadata": {
        "id": "X4y0-sUH1Z75"
      }
    },
    {
      "cell_type": "code",
      "source": [
        "C = imdb_data['IMDB_Rating'].mean()\n",
        "m = imdb_data['No_of_Votes'].quantile(0.80)\n",
        "\n",
        "imdb_data_populares = imdb_data[imdb_data['No_of_Votes'] > m].copy()\n",
        "\n",
        "imdb_data_populares['weighted_rating'] = (\n",
        "(imdb_data_populares['No_of_Votes'] / (imdb_data_populares['No_of_Votes'] +m)) * imdb_data_populares['IMDB_Rating'] +\n",
        "                                         (m/ (imdb_data_populares['No_of_Votes'] + m)) * C\n",
        ")\n",
        "\n",
        "imdb_data_populares.sort_values('weighted_rating', ascending=False)[\n",
        "    ['Series_Title', 'IMDB_Rating','No_of_Votes', 'weighted_rating']\n",
        "].head(10)"
      ],
      "metadata": {
        "collapsed": true,
        "id": "bBiJ5gd0ui8G"
      },
      "execution_count": null,
      "outputs": []
    },
    {
      "cell_type": "markdown",
      "source": [
        "Após aplicar a fórmula com `m` definido no percentil `80` dos votos, obtivemos um ranking dominado por títulos populares e bem avaliados."
      ],
      "metadata": {
        "id": "ORsSc2MO5zgj"
      }
    },
    {
      "cell_type": "markdown",
      "source": [
        "#### Questão 2b"
      ],
      "metadata": {
        "id": "RB8oYWVduifG"
      }
    },
    {
      "cell_type": "markdown",
      "source": [
        "Para identificar os principais fatores associados ao faturamento de um filme (`Gross`), analisamos sua correlação com variáveis numéricas e também com atributos categóricos, como gênero e década de lançamento; essas últimas derivadas na etapa de EDA."
      ],
      "metadata": {
        "id": "waoYpfz36vV-"
      }
    },
    {
      "cell_type": "code",
      "source": [
        "colunas_correlacao = [\"Gross_million\", \"No_of_Votes\", \"IMDB_Rating\", \"Meta_score\", \"Runtime\"]\n",
        "correlacao = imdb_data[colunas_correlacao].corr()\n",
        "correlacao['Gross_million'].sort_values(ascending=False)"
      ],
      "metadata": {
        "collapsed": true,
        "id": "qF_qznX33YoK"
      },
      "execution_count": null,
      "outputs": []
    },
    {
      "cell_type": "code",
      "source": [
        "imdb_data.groupby('Main_Genre')['Gross_million'].mean().sort_values(ascending=False)"
      ],
      "metadata": {
        "collapsed": true,
        "id": "dRMr1W0E5s3E"
      },
      "execution_count": null,
      "outputs": []
    },
    {
      "cell_type": "code",
      "source": [
        "imdb_data.groupby('Certificate')['Gross_million'].mean().sort_values(ascending=False)"
      ],
      "metadata": {
        "collapsed": true,
        "id": "HTpUDwMR5suw"
      },
      "execution_count": null,
      "outputs": []
    },
    {
      "cell_type": "code",
      "source": [
        "imdb_data['Decade'] = (imdb_data['Released_Year'] // 10) * 10\n",
        "imdb_data.groupby('Decade')['Gross_million'].mean().sort_values(ascending=False)"
      ],
      "metadata": {
        "collapsed": true,
        "id": "lo7MpVQL5skS"
      },
      "execution_count": null,
      "outputs": []
    },
    {
      "cell_type": "markdown",
      "source": [
        "Entre as variáveis númericas, `No_of_Votes` tem a relação mais forte com `Gross`, o que é esperado, visto que filmes populares arrecadam mais.\n",
        "\n",
        "Analisando por `Main_Genrer`, conseguimos observar que Family, Action e Animation costumam ter faturamentos médios mais altos.\n",
        "\n",
        "Por década, os anos 2010 se destacam, isso sugere que os blockbusters modernos possuem muito alcance.\n",
        "\n",
        "Todos os fatores citados são consequência do sucesso, não necessariamente a causa. Para uma análise preditiva antes do lançamento, um bom caminho de análise seria focar em variáveis como `Main_Genre`, `Director`, Stars, `Runtime` e até mesmo `Overview`.\n"
      ],
      "metadata": {
        "id": "3a6CGr9Z9s73"
      }
    },
    {
      "cell_type": "markdown",
      "source": [
        "#### Questão 2c"
      ],
      "metadata": {
        "id": "rSb3ed_f6NxG"
      }
    },
    {
      "cell_type": "markdown",
      "source": [
        "A coluna `Overview` contém descrições curtas dos filmes, e, representa um campo de texto livre que resume a narrativa ou o tema da obra.\n",
        "\n",
        "Inicialmente, nessa análise, iremos pré-processar o texto, removendo pontuação, normalizando as letras e eliminando símbolos. A próxima etapa é selecionar os gêneros mais frequentes no conjunto de dados, e, para cada um deles, iremos gerar uma nuvem de palavras."
      ],
      "metadata": {
        "id": "phKeGfvQGKVo"
      }
    },
    {
      "cell_type": "code",
      "source": [
        "from wordcloud import WordCloud\n",
        "\n",
        "imdb_data['Overview_clean'] = imdb_data['Overview'].str.lower().str.replace(r'[^a-zA-Z ]', '', regex=True)"
      ],
      "metadata": {
        "id": "Zt4kIZYX6etD"
      },
      "execution_count": null,
      "outputs": []
    },
    {
      "cell_type": "code",
      "source": [
        "from wordcloud import WordCloud\n",
        "\n",
        "top_genres = imdb_data['Main_Genre'].value_counts().head(10).index.tolist()\n",
        "\n",
        "for genre in top_genres:\n",
        "  text = \" \".join(imdb_data[imdb_data['Main_Genre'] == genre]['Overview_clean'].dropna())\n",
        "  wordcloud = WordCloud(width=800, height=400, background_color='white').generate(text)\n",
        "\n",
        "  plt.figure(figsize=(10,5))\n",
        "  plt.imshow(wordcloud, interpolation='bilinear')\n",
        "  plt.axis('off')\n",
        "  plt.title(f'Palavras mais comuns em {genre.upper()}')\n",
        "  plt.show()"
      ],
      "metadata": {
        "id": "tuW0785RCUAh"
      },
      "execution_count": null,
      "outputs": []
    },
    {
      "cell_type": "markdown",
      "source": [
        "Essa abordagem trouxe padrões interessantes, observando a predominância de palavras de cada gênero mostrado:\n",
        "\n",
        "\n",
        "* Drama: *love, life, woman, family* e *struggle*\n",
        "    * sugere temas emocionais e relacionais\n",
        "* Action: *must, fight, save, lead* e *battle*\n",
        "    * sugere conflitos, urgência e ação direta\n",
        "* Comedy: *friend, tries, fall, love, meet*\n",
        "    * sugere situações sociais, relacionamentos\n",
        "* Crime: *murder, police, detective, killer, investigate*\n",
        "    * palavras diretamente relacionadas à narrativa policial e investigativa\n",
        "* Biography: *life, story, become, career, history*\n",
        "    * palavras voltadas à trajetória e transformação\n",
        "* Animation: *world, young, boy, girl, adventure, friend*\n",
        "    * sugere narrativas voltadas para público infantojunvenil com forte carga de imaginação e fantasia\n",
        "* Horror: *haunted, mysterious, run, becomes, killer*\n",
        "    * sugere medo, perseguição e suspense\n",
        "* Mistery: *murderer, detective, missing, wife, apartment*\n",
        "    * sugere tramas com tensão pscilogógica\n",
        "* Western: *bounty, joins, hunting, gold, scam*\n",
        "    * são termos associados ao velho oeste, a busca por riquezas, a lei do mais forte\n",
        "\n",
        "\n",
        "Foi possível observar que, mesmo em descrições curtas, existe vocabulário suficiente para sugerir o gênero predominante do filme. É um comportamento evidente em gêneros com linguagem marcante. Podemos confirmar que essa coluna possui potencial para ser usada na inferência do gênero."
      ],
      "metadata": {
        "id": "C_sL966kGyts"
      }
    },
    {
      "cell_type": "markdown",
      "source": [
        "# Questão 3"
      ],
      "metadata": {
        "id": "Ngcoh7bYq7mP"
      }
    },
    {
      "cell_type": "code",
      "source": [
        "from sklearn.model_selection import train_test_split\n",
        "from sklearn.preprocessing import OneHotEncoder\n",
        "from sklearn.compose import ColumnTransformer\n",
        "from sklearn.pipeline import Pipeline\n",
        "from sklearn.ensemble import RandomForestRegressor\n",
        "from sklearn.metrics import mean_squared_error, r2_score, mean_absolute_error\n",
        "from sklearn.impute import SimpleImputer\n",
        "\n",
        "imdb_data_copy = imdb_data.copy()\n",
        "\n",
        "\n",
        "features = ['Runtime', 'No_of_Votes', 'Gross_million', 'Main_Genre', 'Certificate', 'Decade']\n",
        "target = 'IMDB_Rating'\n",
        "\n",
        "df_model = imdb_data_copy[features + [target]].dropna()\n",
        "\n",
        "X = df_model[features]\n",
        "y = df_model[target]\n",
        "\n",
        "colunas_numericas = ['Runtime','No_of_Votes', 'Gross_million']\n",
        "colunas_categoricas = ['Main_Genre', 'Certificate', 'Decade']"
      ],
      "metadata": {
        "id": "T58NEtHANDKU"
      },
      "execution_count": null,
      "outputs": []
    },
    {
      "cell_type": "code",
      "source": [
        "numeric_transformer = Pipeline(steps=[\n",
        "    ('imputer', SimpleImputer(strategy='mean'))\n",
        "])"
      ],
      "metadata": {
        "id": "JZAaP53GOqyz"
      },
      "execution_count": null,
      "outputs": []
    },
    {
      "cell_type": "code",
      "source": [
        "categorical_transformer = Pipeline(steps=[\n",
        "    ('imputer', SimpleImputer(strategy='most_frequent')),\n",
        "    ('onehot', OneHotEncoder(handle_unknown='ignore'))\n",
        "])"
      ],
      "metadata": {
        "id": "IxbApZ6vPF72"
      },
      "execution_count": null,
      "outputs": []
    },
    {
      "cell_type": "code",
      "source": [
        "preprocessor = ColumnTransformer(\n",
        "    transformers=[\n",
        "        ('numerico', numeric_transformer, colunas_numericas),\n",
        "        ('categorico', categorical_transformer, colunas_categoricas)\n",
        "    ]\n",
        ")"
      ],
      "metadata": {
        "id": "ohYCWltLPbsk"
      },
      "execution_count": null,
      "outputs": []
    },
    {
      "cell_type": "code",
      "source": [
        "model = Pipeline(steps=[\n",
        "    ('preprocessor', preprocessor),\n",
        "    ('regressor', RandomForestRegressor(n_estimators=100, random_state=42))\n",
        "])\n",
        "\n",
        "X_train, X_test, y_train, y_test = train_test_split(X, y, test_size=0.2, random_state=42)\n",
        "\n",
        "model.fit(X_train, y_train)\n",
        "\n",
        "y_pred = model.predict(X_test)"
      ],
      "metadata": {
        "id": "7mCN5cO9P1Lu"
      },
      "execution_count": null,
      "outputs": []
    },
    {
      "cell_type": "code",
      "source": [
        "rmse = mean_squared_error(y_test, y_pred)\n",
        "r2 = r2_score(y_test, y_pred)\n",
        "mae = mean_absolute_error(y_test, y_pred)"
      ],
      "metadata": {
        "id": "2rpHHfBeQGF4"
      },
      "execution_count": null,
      "outputs": []
    },
    {
      "cell_type": "code",
      "source": [
        "rmse"
      ],
      "metadata": {
        "id": "jA7olSZ8Q6TK"
      },
      "execution_count": null,
      "outputs": []
    },
    {
      "cell_type": "code",
      "source": [
        "r2"
      ],
      "metadata": {
        "id": "kA9aKGI7Q8ri"
      },
      "execution_count": null,
      "outputs": []
    },
    {
      "cell_type": "code",
      "source": [
        "mae"
      ],
      "metadata": {
        "id": "RuTh9UmGQ9fc"
      },
      "execution_count": null,
      "outputs": []
    },
    {
      "cell_type": "markdown",
      "source": [
        "Explique como você faria a previsão da nota do imdb a partir dos dados.\n",
        "\n",
        "Quais variáveis e/ou suas transformações você utilizou e por quê?\n",
        "\n",
        "Qual tipo de problema estamos resolvendo (regressão, classificação)?\n",
        "\n",
        "Qual modelo melhor se aproxima dos dados e quais seus prós e contras?\n",
        "\n",
        "Qual medida de performance do modelo foi escolhida e por quê?"
      ],
      "metadata": {
        "id": "qDck0l_uX9cV"
      }
    },
    {
      "cell_type": "markdown",
      "source": [
        "A partir dos dados existentes da base, para realizar a previsão da nota dos filmes, o problema será definido como regressão, visto que temos que prever uma variável numérica contínua.\n",
        "\n",
        "A análise irá partir do princípio de utilizar informações disponíveis para entender o que influencia a avaliação crítica de um filme.\n",
        "\n",
        "As variáveis utilizadas foram `Runtime`, `No_of_Votes`, `Gross_million`, `Main_Genre`, `Certificate`, `Decade`. Importante ressaltar, que, `Gross_million` originou-se a partir da conversão da receita bruta, `Main_Genre` foi uma separação dos gêneros que os filmes possuem, e, `Decade` é a extração do ano de lançamento do filme. A justificativa para a escolha é o potencial impacto na nota, além da disponibilidade nos dados e correlação como foi possível observar na Questão 1.\n",
        "\n",
        "O tratamento dos dados envolveu limpeza, substituição de valores ausentes e codificação de categorias usando OneHotEncoding, incorporado a um ColumnTransformer para manter o pipeline organizado e escalável.\n",
        "\n",
        "O modelo utilizado foi `Random Forest Regressor` por sua eficácia em dados tabulares, lidar bem com variáveis categóricas já codificadas e apresentar baixa sensibilidade a outliers. Os prós dessa escolha, destaca-se a capacidade de generalização e a interpretação através da importância das features. Como contras, o modelo pode demandar mais recursos computacionais e não ser tão interpretável quanto modelos lineares.\n",
        "\n",
        "A avaliação foi feita com as métricas: `Root Mean Squared Error` (RMSE), `Mean Absolute Error` (MAE) e `R² Score`.\n",
        "\n",
        "* RMSE penaliza erros grandes, o que é util para esse contexto em que pequenas variações na nota podem impactar a percepção do filme; o modelo trouxe resultado satisfatório abaixo de 0.6, e `R²` acima de 0.7.\n",
        "\n",
        "Em conclusão, os resultados indicam que o modelo é capaz de capturar boa parte da variação da nota com as variáveis estabelecidas."
      ],
      "metadata": {
        "id": "bm0duO8CYM2s"
      }
    },
    {
      "cell_type": "markdown",
      "source": [
        "# Questão 4"
      ],
      "metadata": {
        "id": "ThVIz3UBq7T7"
      }
    },
    {
      "cell_type": "code",
      "source": [
        "novo_filme = {\n",
        "    'Series_Title': 'The Shawshank Redemption',\n",
        "    'Released_Year': '1994',\n",
        "    'Certificate': 'A',\n",
        "    'Runtime': '142 min',\n",
        "    'Genre': 'Drama',\n",
        "    'Overview': 'Two imprisoned men bond over a number of years, finding solace and eventual redemption through acts of common decency.',\n",
        "    'Meta_score': 80.0,\n",
        "    'Director': 'Frank Darabont',\n",
        "    'Star1': 'Tim Robbins',\n",
        "    'Star2': 'Morgan Freeman',\n",
        "    'Star3': 'Bob Gunton',\n",
        "    'Star4': 'William Sadler',\n",
        "    'No_of_Votes': 2343110,\n",
        "    'Gross': '28,341,469'\n",
        "}"
      ],
      "metadata": {
        "id": "aEf-7i4veJ8F"
      },
      "execution_count": null,
      "outputs": []
    },
    {
      "cell_type": "code",
      "source": [
        "df_novo_filme = pd.DataFrame([novo_filme])\n",
        "df_novo_filme['Runtime'] = df_novo_filme['Runtime'].str.replace('min', '').astype(float)\n",
        "\n",
        "\n",
        "df_novo_filme['Gross'] = df_novo_filme['Gross'].str.replace(',','')\n",
        "df_novo_filme['Gross'] = pd.to_numeric(df_novo_filme['Gross'], errors='coerce')\n",
        "df_novo_filme['Gross_million'] = df_novo_filme['Gross'] / 1_000_000\n",
        "\n",
        "\n",
        "df_novo_filme['Main_Genre'] = df_novo_filme['Genre'].str.split(',').str[0]\n",
        "\n",
        "\n",
        "df_novo_filme['Released_Year'] = pd.to_numeric(df_novo_filme['Released_Year'], errors='coerce')\n",
        "df_novo_filme['Decade'] = (df_novo_filme['Released_Year'] // 10) * 10"
      ],
      "metadata": {
        "id": "qDGz6U9NgMTS"
      },
      "execution_count": null,
      "outputs": []
    },
    {
      "cell_type": "code",
      "source": [
        "colunas_entrada = [\n",
        "    'Main_Genre', 'Certificate', 'Decade', 'Runtime', 'Meta_score',\n",
        "    'No_of_Votes', 'Gross_million'\n",
        "]"
      ],
      "metadata": {
        "id": "2oG_MjRDgfDs"
      },
      "execution_count": null,
      "outputs": []
    },
    {
      "cell_type": "code",
      "source": [
        "nota_prevista = model.predict(df_novo_filme[colunas_entrada])\n",
        "\n",
        "print(f'Nota IMDB prevista: {nota_prevista[0]: .2f}')"
      ],
      "metadata": {
        "id": "l9GnhMvwgsDC"
      },
      "execution_count": null,
      "outputs": []
    },
    {
      "cell_type": "markdown",
      "source": [
        "# Questão 5"
      ],
      "metadata": {
        "id": "DbOMh_Pyq7Hf"
      }
    },
    {
      "cell_type": "code",
      "source": [
        "import joblib\n",
        "\n",
        "joblib.dump(model, 'modelo_imdb_alice.pkl')"
      ],
      "metadata": {
        "id": "51M2nExkivVc"
      },
      "execution_count": null,
      "outputs": []
    },
    {
      "cell_type": "markdown",
      "source": [
        "# Questão 6"
      ],
      "metadata": {
        "id": "YAh8MfZSq6pX"
      }
    },
    {
      "cell_type": "code",
      "source": [
        "pip freeze"
      ],
      "metadata": {
        "id": "QZG75n_RnFeF"
      },
      "execution_count": null,
      "outputs": []
    }
  ]
}